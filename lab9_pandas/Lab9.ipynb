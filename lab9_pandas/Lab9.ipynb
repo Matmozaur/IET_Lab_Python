{
 "cells": [
  {
   "cell_type": "code",
   "execution_count": null,
   "metadata": {},
   "outputs": [],
   "source": [
    "import numpy as np\n",
    "import pandas as pd\n",
    "import matplotlib.pyplot as plt\n"
   ]
  },
  {
   "cell_type": "markdown",
   "metadata": {},
   "source": [
    "# Read and clean data"
   ]
  },
  {
   "cell_type": "code",
   "execution_count": null,
   "metadata": {},
   "outputs": [],
   "source": [
    "df_plant1 = pd.read_csv('Plant_1_Generation_Data.csv', index_col=[1,2,0], parse_dates=True)\n",
    "df_plant2 = pd.read_csv('Plant_2_Generation_Data.csv', index_col=[1,2,0], parse_dates=True)"
   ]
  },
  {
   "cell_type": "code",
   "execution_count": null,
   "metadata": {},
   "outputs": [],
   "source": [
    "# df_plant1.head()"
   ]
  },
  {
   "cell_type": "code",
   "execution_count": null,
   "metadata": {},
   "outputs": [],
   "source": [
    "# df_plant2.head()"
   ]
  },
  {
   "cell_type": "code",
   "execution_count": null,
   "metadata": {},
   "outputs": [],
   "source": [
    "df = pd.concat([df_plant1, df_plant2])"
   ]
  },
  {
   "cell_type": "code",
   "execution_count": null,
   "metadata": {},
   "outputs": [],
   "source": [
    "df.isna().sum()"
   ]
  },
  {
   "cell_type": "code",
   "execution_count": null,
   "metadata": {},
   "outputs": [],
   "source": [
    "df = df.dropna()"
   ]
  },
  {
   "cell_type": "code",
   "execution_count": null,
   "metadata": {},
   "outputs": [],
   "source": [
    "df.head()"
   ]
  },
  {
   "cell_type": "code",
   "execution_count": null,
   "metadata": {},
   "outputs": [],
   "source": []
  },
  {
   "cell_type": "markdown",
   "metadata": {},
   "source": [
    "# Plots"
   ]
  },
  {
   "cell_type": "markdown",
   "metadata": {},
   "source": [
    "### Plot of the whole date range"
   ]
  },
  {
   "cell_type": "code",
   "execution_count": null,
   "metadata": {
    "scrolled": true
   },
   "outputs": [],
   "source": [
    "plt.figure(figsize=(15,5))\n",
    "plt.plot(df.loc[4135001.0, '1BY6WEcLGh8j5v7']['AC_POWER'], 'o', label='AC_POWER for 1BY6WEcLGh8j5v7')\n",
    "plt.plot(df.loc[4135001.0].groupby(level=1).mean()['AC_POWER'], '.',alpha=0.5,  label='Mean AC_POWER for plant 1')\n",
    "plt.plot(df.groupby(level=2).mean()['AC_POWER'], '.',alpha=0.2, label='Mean AC_POWER for both plants')\n",
    "plt.legend()\n",
    "plt.show()"
   ]
  },
  {
   "cell_type": "markdown",
   "metadata": {},
   "source": [
    "### Plot of choosen date range"
   ]
  },
  {
   "cell_type": "code",
   "execution_count": null,
   "metadata": {},
   "outputs": [],
   "source": [
    "plt.figure(figsize=(15,5))\n",
    "plt.plot(df.loc[4135001.0, '1BY6WEcLGh8j5v7']['AC_POWER']['2020-05-15 00:00:00':'2020-07-01 00:00:00'],\n",
    "         'o', label='AC_POWER for 1BY6WEcLGh8j5v7')\n",
    "plt.plot(df.loc[4135001.0].groupby(level=1).mean()['AC_POWER']['2020-05-15 00:00:00':'2020-07-01 00:00:00'],\n",
    "         '.',alpha=0.5,  label='Mean AC_POWER for plant 1')\n",
    "plt.plot(df.groupby(level=2).mean()['AC_POWER']['2020-05-15 00:00:00':'2020-07-01 00:00:00'],\n",
    "         '.',alpha=0.2, label='Mean AC_POWER for both plants')\n",
    "plt.legend()\n",
    "plt.show()"
   ]
  },
  {
   "cell_type": "markdown",
   "metadata": {},
   "source": [
    "# Searching for low-performance generators"
   ]
  },
  {
   "cell_type": "code",
   "execution_count": null,
   "metadata": {},
   "outputs": [],
   "source": [
    "def get_low_perfomances(df, plant_id):\n",
    "    df_temp = df.loc[plant_id]\n",
    "    mean_plant = pd.DataFrame(df_temp.groupby(level=1).mean()['AC_POWER'])\n",
    "    idxs = df_temp.index.get_level_values('DATE_TIME')\n",
    "    df_temp['mean'] = mean_plant.loc[idxs].values\n",
    "    lower_performances = df_temp[['AC_POWER', 'mean']][df_temp['AC_POWER'] < 0.8 * df_temp['mean'] ]\n",
    "    del df_temp\n",
    "    return lower_performances"
   ]
  },
  {
   "cell_type": "markdown",
   "metadata": {},
   "source": [
    "### Plant 1"
   ]
  },
  {
   "cell_type": "code",
   "execution_count": null,
   "metadata": {},
   "outputs": [],
   "source": [
    "lower_performances1 = get_low_perfomances(df, 4135001.0)"
   ]
  },
  {
   "cell_type": "markdown",
   "metadata": {},
   "source": [
    "dataframe with all requested situations"
   ]
  },
  {
   "cell_type": "code",
   "execution_count": null,
   "metadata": {},
   "outputs": [],
   "source": [
    "lower_performances1.head()"
   ]
  },
  {
   "cell_type": "markdown",
   "metadata": {},
   "source": [
    "worst generators"
   ]
  },
  {
   "cell_type": "code",
   "execution_count": null,
   "metadata": {},
   "outputs": [],
   "source": [
    "lower_performances1['AC_POWER'].groupby(level=0).count().sort_values(ascending=False)"
   ]
  },
  {
   "cell_type": "code",
   "execution_count": null,
   "metadata": {},
   "outputs": [],
   "source": []
  },
  {
   "cell_type": "markdown",
   "metadata": {},
   "source": [
    "### Plant 2"
   ]
  },
  {
   "cell_type": "code",
   "execution_count": null,
   "metadata": {},
   "outputs": [],
   "source": [
    "lower_performances2 = get_low_perfomances(df, 4136001.0)"
   ]
  },
  {
   "cell_type": "markdown",
   "metadata": {},
   "source": [
    "dataframe with all requested situations"
   ]
  },
  {
   "cell_type": "code",
   "execution_count": null,
   "metadata": {},
   "outputs": [],
   "source": [
    "lower_performances2.head()"
   ]
  },
  {
   "cell_type": "markdown",
   "metadata": {},
   "source": [
    "worst generators"
   ]
  },
  {
   "cell_type": "code",
   "execution_count": null,
   "metadata": {},
   "outputs": [],
   "source": [
    "lower_performances2['AC_POWER'].groupby(level=0).count().sort_values(ascending=False)"
   ]
  },
  {
   "cell_type": "code",
   "execution_count": null,
   "metadata": {},
   "outputs": [],
   "source": []
  },
  {
   "cell_type": "code",
   "execution_count": null,
   "metadata": {},
   "outputs": [],
   "source": []
  }
 ],
 "metadata": {
  "kernelspec": {
   "display_name": "Python 3",
   "language": "python",
   "name": "python3"
  },
  "language_info": {
   "codemirror_mode": {
    "name": "ipython",
    "version": 3
   },
   "file_extension": ".py",
   "mimetype": "text/x-python",
   "name": "python",
   "nbconvert_exporter": "python",
   "pygments_lexer": "ipython3",
   "version": "3.7.3"
  }
 },
 "nbformat": 4,
 "nbformat_minor": 2
}
